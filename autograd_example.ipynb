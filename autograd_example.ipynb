{
  "nbformat": 4,
  "nbformat_minor": 0,
  "metadata": {
    "colab": {
      "name": "autograd_example.ipynb",
      "provenance": [],
      "collapsed_sections": [],
      "include_colab_link": true
    },
    "kernelspec": {
      "name": "python3",
      "display_name": "Python 3"
    }
  },
  "cells": [
    {
      "cell_type": "markdown",
      "metadata": {
        "id": "view-in-github",
        "colab_type": "text"
      },
      "source": [
        "<a href=\"https://colab.research.google.com/github/IggyZhao/Python-Skills-by-Iggy/blob/master/autograd_example.ipynb\" target=\"_parent\"><img src=\"https://colab.research.google.com/assets/colab-badge.svg\" alt=\"Open In Colab\"/></a>"
      ]
    },
    {
      "cell_type": "code",
      "metadata": {
        "id": "tP0OOuHXLhqw",
        "colab_type": "code",
        "colab": {}
      },
      "source": [
        "import torch"
      ],
      "execution_count": null,
      "outputs": []
    },
    {
      "cell_type": "code",
      "metadata": {
        "id": "62VZDGC9Lig_",
        "colab_type": "code",
        "colab": {}
      },
      "source": [
        "x = torch.tensor([[1.,2.,3.],[4.,5.,6.]],requires_grad=True)\n",
        "y = x+1\n",
        "z = 2*y*y"
      ],
      "execution_count": null,
      "outputs": []
    },
    {
      "cell_type": "code",
      "metadata": {
        "id": "yUK-BIprLqDW",
        "colab_type": "code",
        "colab": {}
      },
      "source": [
        "J = torch.mean(z)\n",
        "# L = torch.mean(2*z)"
      ],
      "execution_count": null,
      "outputs": []
    },
    {
      "cell_type": "code",
      "metadata": {
        "id": "8pjeOeq1LsYY",
        "colab_type": "code",
        "colab": {}
      },
      "source": [
        "# J.backward()\n",
        "J.backward(retain_graph=True)"
      ],
      "execution_count": null,
      "outputs": []
    },
    {
      "cell_type": "code",
      "metadata": {
        "id": "uEJ-r6XxL1iV",
        "colab_type": "code",
        "colab": {}
      },
      "source": [
        "# L.backward()"
      ],
      "execution_count": null,
      "outputs": []
    },
    {
      "cell_type": "code",
      "metadata": {
        "id": "SvEhNvhlL3lW",
        "colab_type": "code",
        "colab": {}
      },
      "source": [
        ""
      ],
      "execution_count": null,
      "outputs": []
    }
  ]
}